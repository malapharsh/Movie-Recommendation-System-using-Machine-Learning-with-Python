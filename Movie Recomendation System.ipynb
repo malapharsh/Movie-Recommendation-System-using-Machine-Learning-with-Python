{
 "cells": [
  {
   "cell_type": "markdown",
   "id": "4459edf3-81a0-436a-98df-731ad3d0ccf8",
   "metadata": {},
   "source": [
    "<h1>Movie Recomendation System</h1>"
   ]
  },
  {
   "cell_type": "markdown",
   "id": "61ee304f-dd32-45b0-8be0-cf8915fef708",
   "metadata": {},
   "source": [
    "<strong>Recommender System</strong> is a system that seeks to predict or filiter preferences according to the user's choices. Recommender systems are\n",
    "utilized in a variety of areas including movies, music, news, books, research articles, search queries, social tags, and products in general.\n",
    "Recommender systems produce a list of recommendations in any of the two ways-\n",
    "\n",
    "<strong>Collaborative filtering:</strong> Collaborative filtering approaches build a model from the user's past behavior (i.e. items purchased or searched by the\n",
    "user) as well as similar decisions made by other users. This model is then used to predict items (or ratings for items) that users may have an\n",
    "interest in.\n",
    "\n",
    "<strong>Content-based filtering:</strong> Content-based filtering approaches uses a series of discrete characteristics of an item in order to recommend\n",
    "additional items with similar properties. Content-based filtering methods are totally based on a description of the item and a profile of the user's\n",
    "preferences. It recommends items based on the user's past preferences. Let's develop a basic recommendation system using Python and\n",
    "Pandas.\n",
    "\n",
    "Let's develop a basic recommendation system by suggesting items that are most similar to a particular item, in this case, movies. It just tells\n",
    "what movies/items are most similar to the user's movie choice."
   ]
  },
  {
   "cell_type": "markdown",
   "id": "e462cc49-8f1a-4fa2-a261-352118bafa0e",
   "metadata": {},
   "source": [
    "<h1>Import Library</h1>"
   ]
  },
  {
   "cell_type": "code",
   "execution_count": 1,
   "id": "8020624a-a38e-4fd9-9794-1925a1d51f67",
   "metadata": {},
   "outputs": [],
   "source": [
    "import pandas as pd\n",
    "import numpy as np\n",
    "import difflib\n",
    "from sklearn.feature_extraction.text import TfidfVectorizer\n",
    "from sklearn.metrics.pairwise import cosine_similarity"
   ]
  },
  {
   "cell_type": "markdown",
   "id": "349fb2fc-7f6d-4acb-b94e-98f9e1894086",
   "metadata": {},
   "source": [
    "<h1>Import Data</h1>"
   ]
  },
  {
   "cell_type": "code",
   "execution_count": 2,
   "id": "ffa417d5-e094-4bf7-83af-0f0bbbc0b9ba",
   "metadata": {},
   "outputs": [],
   "source": [
    "movies = pd.read_csv('movies.csv')"
   ]
  },
  {
   "cell_type": "markdown",
   "id": "bdb91498-a432-4dda-b2c7-4f3ae74f78d2",
   "metadata": {},
   "source": [
    "<h1>Data Preprocessing</h1>"
   ]
  },
  {
   "cell_type": "code",
   "execution_count": 3,
   "id": "a62a1715-6f05-4f6b-b291-0d9bf54ffc8c",
   "metadata": {},
   "outputs": [
    {
     "data": {
      "text/html": [
       "<div>\n",
       "<style scoped>\n",
       "    .dataframe tbody tr th:only-of-type {\n",
       "        vertical-align: middle;\n",
       "    }\n",
       "\n",
       "    .dataframe tbody tr th {\n",
       "        vertical-align: top;\n",
       "    }\n",
       "\n",
       "    .dataframe thead th {\n",
       "        text-align: right;\n",
       "    }\n",
       "</style>\n",
       "<table border=\"1\" class=\"dataframe\">\n",
       "  <thead>\n",
       "    <tr style=\"text-align: right;\">\n",
       "      <th></th>\n",
       "      <th>index</th>\n",
       "      <th>budget</th>\n",
       "      <th>genres</th>\n",
       "      <th>homepage</th>\n",
       "      <th>id</th>\n",
       "      <th>keywords</th>\n",
       "      <th>original_language</th>\n",
       "      <th>original_title</th>\n",
       "      <th>overview</th>\n",
       "      <th>popularity</th>\n",
       "      <th>...</th>\n",
       "      <th>runtime</th>\n",
       "      <th>spoken_languages</th>\n",
       "      <th>status</th>\n",
       "      <th>tagline</th>\n",
       "      <th>title</th>\n",
       "      <th>vote_average</th>\n",
       "      <th>vote_count</th>\n",
       "      <th>cast</th>\n",
       "      <th>crew</th>\n",
       "      <th>director</th>\n",
       "    </tr>\n",
       "  </thead>\n",
       "  <tbody>\n",
       "    <tr>\n",
       "      <th>0</th>\n",
       "      <td>0</td>\n",
       "      <td>237000000</td>\n",
       "      <td>Action Adventure Fantasy Science Fiction</td>\n",
       "      <td>http://www.avatarmovie.com/</td>\n",
       "      <td>19995</td>\n",
       "      <td>culture clash future space war space colony so...</td>\n",
       "      <td>en</td>\n",
       "      <td>Avatar</td>\n",
       "      <td>In the 22nd century, a paraplegic Marine is di...</td>\n",
       "      <td>150.437577</td>\n",
       "      <td>...</td>\n",
       "      <td>162.0</td>\n",
       "      <td>[{\"iso_639_1\": \"en\", \"name\": \"English\"}, {\"iso...</td>\n",
       "      <td>Released</td>\n",
       "      <td>Enter the World of Pandora.</td>\n",
       "      <td>Avatar</td>\n",
       "      <td>7.2</td>\n",
       "      <td>11800</td>\n",
       "      <td>Sam Worthington Zoe Saldana Sigourney Weaver S...</td>\n",
       "      <td>[{'name': 'Stephen E. Rivkin', 'gender': 0, 'd...</td>\n",
       "      <td>James Cameron</td>\n",
       "    </tr>\n",
       "    <tr>\n",
       "      <th>1</th>\n",
       "      <td>1</td>\n",
       "      <td>300000000</td>\n",
       "      <td>Adventure Fantasy Action</td>\n",
       "      <td>http://disney.go.com/disneypictures/pirates/</td>\n",
       "      <td>285</td>\n",
       "      <td>ocean drug abuse exotic island east india trad...</td>\n",
       "      <td>en</td>\n",
       "      <td>Pirates of the Caribbean: At World's End</td>\n",
       "      <td>Captain Barbossa, long believed to be dead, ha...</td>\n",
       "      <td>139.082615</td>\n",
       "      <td>...</td>\n",
       "      <td>169.0</td>\n",
       "      <td>[{\"iso_639_1\": \"en\", \"name\": \"English\"}]</td>\n",
       "      <td>Released</td>\n",
       "      <td>At the end of the world, the adventure begins.</td>\n",
       "      <td>Pirates of the Caribbean: At World's End</td>\n",
       "      <td>6.9</td>\n",
       "      <td>4500</td>\n",
       "      <td>Johnny Depp Orlando Bloom Keira Knightley Stel...</td>\n",
       "      <td>[{'name': 'Dariusz Wolski', 'gender': 2, 'depa...</td>\n",
       "      <td>Gore Verbinski</td>\n",
       "    </tr>\n",
       "    <tr>\n",
       "      <th>2</th>\n",
       "      <td>2</td>\n",
       "      <td>245000000</td>\n",
       "      <td>Action Adventure Crime</td>\n",
       "      <td>http://www.sonypictures.com/movies/spectre/</td>\n",
       "      <td>206647</td>\n",
       "      <td>spy based on novel secret agent sequel mi6</td>\n",
       "      <td>en</td>\n",
       "      <td>Spectre</td>\n",
       "      <td>A cryptic message from Bond’s past sends him o...</td>\n",
       "      <td>107.376788</td>\n",
       "      <td>...</td>\n",
       "      <td>148.0</td>\n",
       "      <td>[{\"iso_639_1\": \"fr\", \"name\": \"Fran\\u00e7ais\"},...</td>\n",
       "      <td>Released</td>\n",
       "      <td>A Plan No One Escapes</td>\n",
       "      <td>Spectre</td>\n",
       "      <td>6.3</td>\n",
       "      <td>4466</td>\n",
       "      <td>Daniel Craig Christoph Waltz L\\u00e9a Seydoux ...</td>\n",
       "      <td>[{'name': 'Thomas Newman', 'gender': 2, 'depar...</td>\n",
       "      <td>Sam Mendes</td>\n",
       "    </tr>\n",
       "    <tr>\n",
       "      <th>3</th>\n",
       "      <td>3</td>\n",
       "      <td>250000000</td>\n",
       "      <td>Action Crime Drama Thriller</td>\n",
       "      <td>http://www.thedarkknightrises.com/</td>\n",
       "      <td>49026</td>\n",
       "      <td>dc comics crime fighter terrorist secret ident...</td>\n",
       "      <td>en</td>\n",
       "      <td>The Dark Knight Rises</td>\n",
       "      <td>Following the death of District Attorney Harve...</td>\n",
       "      <td>112.312950</td>\n",
       "      <td>...</td>\n",
       "      <td>165.0</td>\n",
       "      <td>[{\"iso_639_1\": \"en\", \"name\": \"English\"}]</td>\n",
       "      <td>Released</td>\n",
       "      <td>The Legend Ends</td>\n",
       "      <td>The Dark Knight Rises</td>\n",
       "      <td>7.6</td>\n",
       "      <td>9106</td>\n",
       "      <td>Christian Bale Michael Caine Gary Oldman Anne ...</td>\n",
       "      <td>[{'name': 'Hans Zimmer', 'gender': 2, 'departm...</td>\n",
       "      <td>Christopher Nolan</td>\n",
       "    </tr>\n",
       "    <tr>\n",
       "      <th>4</th>\n",
       "      <td>4</td>\n",
       "      <td>260000000</td>\n",
       "      <td>Action Adventure Science Fiction</td>\n",
       "      <td>http://movies.disney.com/john-carter</td>\n",
       "      <td>49529</td>\n",
       "      <td>based on novel mars medallion space travel pri...</td>\n",
       "      <td>en</td>\n",
       "      <td>John Carter</td>\n",
       "      <td>John Carter is a war-weary, former military ca...</td>\n",
       "      <td>43.926995</td>\n",
       "      <td>...</td>\n",
       "      <td>132.0</td>\n",
       "      <td>[{\"iso_639_1\": \"en\", \"name\": \"English\"}]</td>\n",
       "      <td>Released</td>\n",
       "      <td>Lost in our world, found in another.</td>\n",
       "      <td>John Carter</td>\n",
       "      <td>6.1</td>\n",
       "      <td>2124</td>\n",
       "      <td>Taylor Kitsch Lynn Collins Samantha Morton Wil...</td>\n",
       "      <td>[{'name': 'Andrew Stanton', 'gender': 2, 'depa...</td>\n",
       "      <td>Andrew Stanton</td>\n",
       "    </tr>\n",
       "  </tbody>\n",
       "</table>\n",
       "<p>5 rows × 24 columns</p>\n",
       "</div>"
      ],
      "text/plain": [
       "   index     budget                                    genres  \\\n",
       "0      0  237000000  Action Adventure Fantasy Science Fiction   \n",
       "1      1  300000000                  Adventure Fantasy Action   \n",
       "2      2  245000000                    Action Adventure Crime   \n",
       "3      3  250000000               Action Crime Drama Thriller   \n",
       "4      4  260000000          Action Adventure Science Fiction   \n",
       "\n",
       "                                       homepage      id  \\\n",
       "0                   http://www.avatarmovie.com/   19995   \n",
       "1  http://disney.go.com/disneypictures/pirates/     285   \n",
       "2   http://www.sonypictures.com/movies/spectre/  206647   \n",
       "3            http://www.thedarkknightrises.com/   49026   \n",
       "4          http://movies.disney.com/john-carter   49529   \n",
       "\n",
       "                                            keywords original_language  \\\n",
       "0  culture clash future space war space colony so...                en   \n",
       "1  ocean drug abuse exotic island east india trad...                en   \n",
       "2         spy based on novel secret agent sequel mi6                en   \n",
       "3  dc comics crime fighter terrorist secret ident...                en   \n",
       "4  based on novel mars medallion space travel pri...                en   \n",
       "\n",
       "                             original_title  \\\n",
       "0                                    Avatar   \n",
       "1  Pirates of the Caribbean: At World's End   \n",
       "2                                   Spectre   \n",
       "3                     The Dark Knight Rises   \n",
       "4                               John Carter   \n",
       "\n",
       "                                            overview  popularity  ... runtime  \\\n",
       "0  In the 22nd century, a paraplegic Marine is di...  150.437577  ...   162.0   \n",
       "1  Captain Barbossa, long believed to be dead, ha...  139.082615  ...   169.0   \n",
       "2  A cryptic message from Bond’s past sends him o...  107.376788  ...   148.0   \n",
       "3  Following the death of District Attorney Harve...  112.312950  ...   165.0   \n",
       "4  John Carter is a war-weary, former military ca...   43.926995  ...   132.0   \n",
       "\n",
       "                                    spoken_languages    status  \\\n",
       "0  [{\"iso_639_1\": \"en\", \"name\": \"English\"}, {\"iso...  Released   \n",
       "1           [{\"iso_639_1\": \"en\", \"name\": \"English\"}]  Released   \n",
       "2  [{\"iso_639_1\": \"fr\", \"name\": \"Fran\\u00e7ais\"},...  Released   \n",
       "3           [{\"iso_639_1\": \"en\", \"name\": \"English\"}]  Released   \n",
       "4           [{\"iso_639_1\": \"en\", \"name\": \"English\"}]  Released   \n",
       "\n",
       "                                          tagline  \\\n",
       "0                     Enter the World of Pandora.   \n",
       "1  At the end of the world, the adventure begins.   \n",
       "2                           A Plan No One Escapes   \n",
       "3                                 The Legend Ends   \n",
       "4            Lost in our world, found in another.   \n",
       "\n",
       "                                      title vote_average vote_count  \\\n",
       "0                                    Avatar          7.2      11800   \n",
       "1  Pirates of the Caribbean: At World's End          6.9       4500   \n",
       "2                                   Spectre          6.3       4466   \n",
       "3                     The Dark Knight Rises          7.6       9106   \n",
       "4                               John Carter          6.1       2124   \n",
       "\n",
       "                                                cast  \\\n",
       "0  Sam Worthington Zoe Saldana Sigourney Weaver S...   \n",
       "1  Johnny Depp Orlando Bloom Keira Knightley Stel...   \n",
       "2  Daniel Craig Christoph Waltz L\\u00e9a Seydoux ...   \n",
       "3  Christian Bale Michael Caine Gary Oldman Anne ...   \n",
       "4  Taylor Kitsch Lynn Collins Samantha Morton Wil...   \n",
       "\n",
       "                                                crew           director  \n",
       "0  [{'name': 'Stephen E. Rivkin', 'gender': 0, 'd...      James Cameron  \n",
       "1  [{'name': 'Dariusz Wolski', 'gender': 2, 'depa...     Gore Verbinski  \n",
       "2  [{'name': 'Thomas Newman', 'gender': 2, 'depar...         Sam Mendes  \n",
       "3  [{'name': 'Hans Zimmer', 'gender': 2, 'departm...  Christopher Nolan  \n",
       "4  [{'name': 'Andrew Stanton', 'gender': 2, 'depa...     Andrew Stanton  \n",
       "\n",
       "[5 rows x 24 columns]"
      ]
     },
     "execution_count": 3,
     "metadata": {},
     "output_type": "execute_result"
    }
   ],
   "source": [
    "movies.head()"
   ]
  },
  {
   "cell_type": "code",
   "execution_count": 4,
   "id": "37c90e7b-08f0-4749-ba15-d498f6bb7911",
   "metadata": {},
   "outputs": [
    {
     "data": {
      "text/plain": [
       "(4803, 24)"
      ]
     },
     "execution_count": 4,
     "metadata": {},
     "output_type": "execute_result"
    }
   ],
   "source": [
    "movies.shape"
   ]
  },
  {
   "cell_type": "code",
   "execution_count": 5,
   "id": "8102785c-d43e-469b-b536-548875d0be32",
   "metadata": {},
   "outputs": [
    {
     "name": "stdout",
     "output_type": "stream",
     "text": [
      "<class 'pandas.core.frame.DataFrame'>\n",
      "RangeIndex: 4803 entries, 0 to 4802\n",
      "Data columns (total 24 columns):\n",
      " #   Column                Non-Null Count  Dtype  \n",
      "---  ------                --------------  -----  \n",
      " 0   index                 4803 non-null   int64  \n",
      " 1   budget                4803 non-null   int64  \n",
      " 2   genres                4775 non-null   object \n",
      " 3   homepage              1712 non-null   object \n",
      " 4   id                    4803 non-null   int64  \n",
      " 5   keywords              4391 non-null   object \n",
      " 6   original_language     4803 non-null   object \n",
      " 7   original_title        4803 non-null   object \n",
      " 8   overview              4800 non-null   object \n",
      " 9   popularity            4803 non-null   float64\n",
      " 10  production_companies  4803 non-null   object \n",
      " 11  production_countries  4803 non-null   object \n",
      " 12  release_date          4802 non-null   object \n",
      " 13  revenue               4803 non-null   int64  \n",
      " 14  runtime               4801 non-null   float64\n",
      " 15  spoken_languages      4803 non-null   object \n",
      " 16  status                4803 non-null   object \n",
      " 17  tagline               3959 non-null   object \n",
      " 18  title                 4803 non-null   object \n",
      " 19  vote_average          4803 non-null   float64\n",
      " 20  vote_count            4803 non-null   int64  \n",
      " 21  cast                  4760 non-null   object \n",
      " 22  crew                  4803 non-null   object \n",
      " 23  director              4773 non-null   object \n",
      "dtypes: float64(3), int64(5), object(16)\n",
      "memory usage: 900.7+ KB\n"
     ]
    }
   ],
   "source": [
    "movies.info()"
   ]
  },
  {
   "cell_type": "markdown",
   "id": "ee44ee86-ae2e-4ce6-b466-2e30bad00d6f",
   "metadata": {},
   "source": [
    "<h1>Defining features </h1>"
   ]
  },
  {
   "cell_type": "code",
   "execution_count": 6,
   "id": "a6718e4c-0ba8-4f5c-be8f-f1470fe2283d",
   "metadata": {},
   "outputs": [],
   "source": [
    "selected_features = ['genres', 'tagline', 'cast', 'director']"
   ]
  },
  {
   "cell_type": "markdown",
   "id": "fabbef3c-4262-4a3b-9831-3cf2402687f0",
   "metadata": {},
   "source": [
    "<h1>Handling mising values of selected features</h1>"
   ]
  },
  {
   "cell_type": "code",
   "execution_count": 7,
   "id": "109789f4-15b7-4b06-8672-9f24273e1001",
   "metadata": {},
   "outputs": [
    {
     "data": {
      "text/plain": [
       "genres       28\n",
       "tagline     844\n",
       "cast         43\n",
       "director     30\n",
       "dtype: int64"
      ]
     },
     "execution_count": 7,
     "metadata": {},
     "output_type": "execute_result"
    }
   ],
   "source": [
    "movies[selected_features].isnull().sum()"
   ]
  },
  {
   "cell_type": "code",
   "execution_count": 8,
   "id": "af62d17b-f7e2-4cd0-a4b6-17cd62129911",
   "metadata": {},
   "outputs": [],
   "source": [
    "for i in selected_features :\n",
    "     movies[i] = movies[i].fillna('')"
   ]
  },
  {
   "cell_type": "code",
   "execution_count": 9,
   "id": "e9ca7533-4305-4488-bb0a-6116b5761744",
   "metadata": {},
   "outputs": [],
   "source": [
    "#Combining all features\n",
    "all_features = movies['genres']+''+movies['tagline']+''+movies['cast']+''+movies['director']"
   ]
  },
  {
   "cell_type": "code",
   "execution_count": 10,
   "id": "07ba27cb-8294-4354-9223-ebe66e27cbe3",
   "metadata": {},
   "outputs": [
    {
     "data": {
      "text/plain": [
       "0       Action Adventure Fantasy Science FictionEnter ...\n",
       "1       Adventure Fantasy ActionAt the end of the worl...\n",
       "2       Action Adventure CrimeA Plan No One EscapesDan...\n",
       "3       Action Crime Drama ThrillerThe Legend EndsChri...\n",
       "4       Action Adventure Science FictionLost in our wo...\n",
       "                              ...                        \n",
       "4798    Action Crime ThrillerHe didn't come looking fo...\n",
       "4799    Comedy RomanceA newlywed couple's honeymoon is...\n",
       "4800    Comedy Drama Romance TV MovieEric Mabius Krist...\n",
       "4801    A New Yorker in ShanghaiDaniel Henney Eliza Co...\n",
       "4802    DocumentaryDrew Barrymore Brian Herzlinger Cor...\n",
       "Length: 4803, dtype: object"
      ]
     },
     "execution_count": 10,
     "metadata": {},
     "output_type": "execute_result"
    }
   ],
   "source": [
    "all_features"
   ]
  },
  {
   "cell_type": "code",
   "execution_count": 11,
   "id": "59c96617-f64f-421f-aab5-20220723196e",
   "metadata": {},
   "outputs": [],
   "source": [
    "# Converting text values to numerical values( vectors )\n",
    "vectorizer = TfidfVectorizer()"
   ]
  },
  {
   "cell_type": "code",
   "execution_count": 12,
   "id": "6c2a91f7-3b69-4e2e-91a8-cde2ff1ddc6e",
   "metadata": {},
   "outputs": [],
   "source": [
    "feature_vectors = vectorizer.fit_transform(all_features)"
   ]
  },
  {
   "cell_type": "code",
   "execution_count": 13,
   "id": "9eb3a249-c736-470c-8bfa-9ea22ea8174b",
   "metadata": {},
   "outputs": [
    {
     "data": {
      "text/plain": [
       "<4803x20854 sparse matrix of type '<class 'numpy.float64'>'\n",
       "\twith 89316 stored elements in Compressed Sparse Row format>"
      ]
     },
     "execution_count": 13,
     "metadata": {},
     "output_type": "execute_result"
    }
   ],
   "source": [
    "feature_vectors"
   ]
  },
  {
   "cell_type": "code",
   "execution_count": 14,
   "id": "b7b265c0-4a42-4bff-8ba6-2e0cdff6eb0d",
   "metadata": {},
   "outputs": [
    {
     "name": "stdout",
     "output_type": "stream",
     "text": [
      "  (0, 2711)\t0.20742747671670228\n",
      "  (0, 15686)\t0.3352969281083964\n",
      "  (0, 12746)\t0.19217431423971001\n",
      "  (0, 11043)\t0.27386294744796086\n",
      "  (0, 17571)\t0.19798363994787105\n",
      "  (0, 19994)\t0.24044536167848338\n",
      "  (0, 17037)\t0.24740477210837714\n",
      "  (0, 16299)\t0.2638482205518432\n",
      "  (0, 20825)\t0.24206990805515324\n",
      "  (0, 20512)\t0.28747761467973654\n",
      "  (0, 16328)\t0.19128657473178384\n",
      "  (0, 14183)\t0.31981988769723463\n",
      "  (0, 13879)\t0.12181177765323377\n",
      "  (0, 20498)\t0.17479927668171105\n",
      "  (0, 18182)\t0.09478913985239082\n",
      "  (0, 6953)\t0.3352969281083964\n",
      "  (0, 16570)\t0.12224067068628999\n",
      "  (0, 6661)\t0.14559379524857047\n",
      "  (0, 318)\t0.1115843979600231\n",
      "  (0, 176)\t0.09628903841708969\n",
      "  (1, 19578)\t0.2482812501615493\n",
      "  (1, 6793)\t0.29480760059336464\n",
      "  (1, 20709)\t0.23467316501253754\n",
      "  (1, 3253)\t0.2294996111482978\n",
      "  (1, 19077)\t0.22106507986352583\n",
      "  :\t:\n",
      "  (4800, 5321)\t0.08148493695154697\n",
      "  (4801, 9443)\t0.31328451191966095\n",
      "  (4801, 16942)\t0.31328451191966095\n",
      "  (4801, 16151)\t0.31328451191966095\n",
      "  (4801, 4050)\t0.31328451191966095\n",
      "  (4801, 16811)\t0.31328451191966095\n",
      "  (4801, 20661)\t0.31328451191966095\n",
      "  (4801, 20799)\t0.2988235471904995\n",
      "  (4801, 6050)\t0.25964139997300173\n",
      "  (4801, 505)\t0.1925798020709792\n",
      "  (4801, 8884)\t0.2988235471904995\n",
      "  (4801, 14357)\t0.22320407809098552\n",
      "  (4801, 1861)\t0.16551908414694963\n",
      "  (4801, 13615)\t0.18450066460346903\n",
      "  (4801, 9664)\t0.1294917107713159\n",
      "  (4802, 5819)\t0.32409807479792413\n",
      "  (4802, 8965)\t0.6481961495958483\n",
      "  (4802, 5116)\t0.32409807479792413\n",
      "  (4802, 6848)\t0.2686033770180985\n",
      "  (4802, 8247)\t0.2579890098973617\n",
      "  (4802, 15630)\t0.19739709351787782\n",
      "  (4802, 1448)\t0.22418138978898294\n",
      "  (4802, 3977)\t0.25230143995720866\n",
      "  (4802, 6206)\t0.19680674217738303\n",
      "  (4802, 2339)\t0.19860691244854986\n"
     ]
    }
   ],
   "source": [
    "print(feature_vectors)"
   ]
  },
  {
   "cell_type": "code",
   "execution_count": 15,
   "id": "1dd7e151-a5be-4807-8b46-cc6aba0307cd",
   "metadata": {},
   "outputs": [],
   "source": [
    "# find similarity score using cosine similarity\n",
    "similarity_score = cosine_similarity(feature_vectors)"
   ]
  },
  {
   "cell_type": "code",
   "execution_count": 16,
   "id": "52738fc1-a7c9-42e9-9f74-e0a57ca023e3",
   "metadata": {},
   "outputs": [
    {
     "data": {
      "text/plain": [
       "array([[1.        , 0.10414422, 0.02093683, ..., 0.        , 0.        ,\n",
       "        0.        ],\n",
       "       [0.10414422, 1.        , 0.02110299, ..., 0.        , 0.        ,\n",
       "        0.        ],\n",
       "       [0.02093683, 0.02110299, 1.        , ..., 0.        , 0.        ,\n",
       "        0.        ],\n",
       "       ...,\n",
       "       [0.        , 0.        , 0.        , ..., 1.        , 0.        ,\n",
       "        0.        ],\n",
       "       [0.        , 0.        , 0.        , ..., 0.        , 1.        ,\n",
       "        0.        ],\n",
       "       [0.        , 0.        , 0.        , ..., 0.        , 0.        ,\n",
       "        1.        ]])"
      ]
     },
     "execution_count": 16,
     "metadata": {},
     "output_type": "execute_result"
    }
   ],
   "source": [
    "similarity_score"
   ]
  },
  {
   "cell_type": "markdown",
   "id": "78ee6389-30c7-4dbb-b1d5-af0577a078fd",
   "metadata": {},
   "source": [
    "<h2><em>Movie Recommendation System</em></h2>"
   ]
  },
  {
   "cell_type": "code",
   "execution_count": 17,
   "id": "ba6b6a53-b65e-408a-92d0-675401454630",
   "metadata": {},
   "outputs": [
    {
     "name": "stdin",
     "output_type": "stream",
     "text": [
      "Enter movie name :  Rambo\n"
     ]
    },
    {
     "name": "stdout",
     "output_type": "stream",
     "text": [
      " Movies suggested for you : \n",
      "\n",
      "1 . Rambo III\n",
      "2 . First Blood\n",
      "3 . Patriot Games\n",
      "4 . Rambo: First Blood Part II\n",
      "5 . The Four Feathers\n",
      "6 . Zookeeper\n",
      "7 . The Expendables\n",
      "8 . The Expendables 2\n",
      "9 . Death Race 2000\n",
      "10 . Me You and Five Bucks\n"
     ]
    }
   ],
   "source": [
    "# Getting movie name as input from user\n",
    "user_input = input('Enter movie name : ')\n",
    "\n",
    "# Creating a list of movies\n",
    "movies_name_list = movies['title'].tolist()\n",
    "\n",
    "# finding the close match for Movie_Title given by user\n",
    "find_close_match = difflib.get_close_matches(user_input, movies_name_list)\n",
    "\n",
    "# get first value of close match\n",
    "first_close_match = find_close_match[0]\n",
    "\n",
    "#find index of first close matched movie\n",
    "index_of_the_movie = movies[movies.title == first_close_match]['index'].values[0]\n",
    "\n",
    "similarity = list(enumerate(similarity_score[index_of_the_movie]))\n",
    "\n",
    "# sorting movies based on similarity score\n",
    "sorted_similar_movies = sorted(similarity, key = lambda x:x[1], reverse = True)\n",
    "\n",
    "# print name of similar movies\n",
    "print(\" Movies suggested for you : \\n\")\n",
    "i = 1 \n",
    "for movie in sorted_similar_movies :\n",
    "    index = movie[0]\n",
    "    title_from_index = movies[movies.index== index]['title'].values[0]\n",
    "    if i<11:\n",
    "        print(i,\".\",title_from_index)\n",
    "        i+=1"
   ]
  },
  {
   "cell_type": "code",
   "execution_count": null,
   "id": "e1f6468f-36a5-41ce-868d-7baeb144f904",
   "metadata": {},
   "outputs": [],
   "source": []
  }
 ],
 "metadata": {
  "kernelspec": {
   "display_name": "Python 3 (ipykernel)",
   "language": "python",
   "name": "python3"
  },
  "language_info": {
   "codemirror_mode": {
    "name": "ipython",
    "version": 3
   },
   "file_extension": ".py",
   "mimetype": "text/x-python",
   "name": "python",
   "nbconvert_exporter": "python",
   "pygments_lexer": "ipython3",
   "version": "3.12.2"
  },
  "widgets": {
   "application/vnd.jupyter.widget-state+json": {
    "state": {},
    "version_major": 2,
    "version_minor": 0
   }
  }
 },
 "nbformat": 4,
 "nbformat_minor": 5
}
